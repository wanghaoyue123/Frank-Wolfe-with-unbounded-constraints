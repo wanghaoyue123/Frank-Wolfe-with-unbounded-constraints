{
 "cells": [
  {
   "cell_type": "code",
   "execution_count": 1,
   "metadata": {},
   "outputs": [
    {
     "ename": "NameError",
     "evalue": "name 'delta' is not defined",
     "output_type": "error",
     "traceback": [
      "\u001b[0;31m---------------------------------------------------------------------------\u001b[0m",
      "\u001b[0;31mNameError\u001b[0m                                 Traceback (most recent call last)",
      "\u001b[0;32m<ipython-input-1-d3b4b44030b9>\u001b[0m in \u001b[0;36m<module>\u001b[0;34m\u001b[0m\n\u001b[1;32m     61\u001b[0m \u001b[0mcvx\u001b[0m \u001b[0;34m=\u001b[0m \u001b[0;36m1\u001b[0m\u001b[0;34m\u001b[0m\u001b[0;34m\u001b[0m\u001b[0m\n\u001b[1;32m     62\u001b[0m \u001b[0mitermax\u001b[0m \u001b[0;34m=\u001b[0m \u001b[0;36m1000\u001b[0m\u001b[0;34m\u001b[0m\u001b[0;34m\u001b[0m\u001b[0m\n\u001b[0;32m---> 63\u001b[0;31m \u001b[0mLeastSquare_large_ins\u001b[0m\u001b[0;34m(\u001b[0m\u001b[0mr\u001b[0m\u001b[0;34m,\u001b[0m \u001b[0mN\u001b[0m\u001b[0;34m,\u001b[0m \u001b[0mn\u001b[0m\u001b[0;34m,\u001b[0m \u001b[0mdelta\u001b[0m\u001b[0;34m,\u001b[0m \u001b[0msigma\u001b[0m\u001b[0;34m,\u001b[0m \u001b[0mitermax\u001b[0m\u001b[0;34m,\u001b[0m \u001b[0mtolerance\u001b[0m\u001b[0;34m,\u001b[0m \u001b[0mcvx\u001b[0m\u001b[0;34m,\u001b[0m \u001b[0mnum\u001b[0m\u001b[0;34m)\u001b[0m\u001b[0;34m\u001b[0m\u001b[0;34m\u001b[0m\u001b[0m\n\u001b[0m",
      "\u001b[0;31mNameError\u001b[0m: name 'delta' is not defined"
     ]
    }
   ],
   "source": [
    "import numpy as np\n",
    "\n",
    "from Data_generation import generate_data_leastsquare\n",
    "from Mosek_Leastsquare import Mosek_Leastsquare\n",
    "from uFW_Leastsquare import uFW_Leastsquare\n",
    "from uAFW_Leastsquare import uAFW_Leastsquare\n",
    "\n",
    "def LeastSquare_large_ins(r, N, n, relative_delta, relative_sigma, itermax, tolerance, cvx, num):\n",
    "    \n",
    "    #####################################################################\n",
    "    ## Run the uFW for some iterations, and output the time and objective values across iterations\n",
    "    ## All the ourput data are saved in a folder named 'Output_data'.\n",
    "    ## \n",
    "    ##\n",
    "    ## Input:\n",
    "    ##\n",
    "    ## r: The order of difference for D^(r).\n",
    "    ##\n",
    "    ## N: The number of samples.\n",
    "    ##\n",
    "    ## n: The number of features.\n",
    "    ##\n",
    "    ## relative_delta: Relative value w.r.t. the genrated data beforing noising. (See captions of plotted figures in the latex code).\n",
    "    ##\n",
    "    ## relative_sigma: Relative noise level.\n",
    "    ##\n",
    "    ## itermax: number of iterations\n",
    "    ##\n",
    "    ## tolerance: stopping threshold for relative gap in objective values\n",
    "    ##\n",
    "    ## cvx: binary. Run the exp for Mosek if cvx = 1.\n",
    "    ##\n",
    "    ## num: index for different exps\n",
    "    ##\n",
    "    ##\n",
    "    ####################################################################\n",
    "    \n",
    "    A = np.random.randn(N,n)\n",
    "    b = generate_data_leastsquare(A, r=r, N=N, n=n, sigma=relative_sigma)\n",
    "    time1, obj1 = uFW_Leastsquare(r=r, A=A, b=b, delta=relative_delta, step_size='simple', itermax=itermax)\n",
    "    np.savetxt(\"Output_data/r=%d_N=%d_n=%d_time_%d\" % (r,N,n,num), time1)\n",
    "    np.savetxt(\"Output_data/r=%d_N=%d_n=%d_obj_%d\" % (r,N,n,num), obj1)\n",
    "\n",
    "    \n",
    "    if cvx == 1:\n",
    "        time_cvxpy, obj_cvxpy = Mosek_Leastsquare(r, A, b, relative_delta)\n",
    "        data_cvxpy = np.zeros(2)\n",
    "        data_cvxpy[0] = time_cvxpy\n",
    "        data_cvxpy[1] = obj_cvxpy\n",
    "        np.savetxt(\"Output_data/r=%d_N=%d_n=%d_mosek_%d\" % (r,N,n,num), data_cvxpy)\n",
    "\n",
    "\n",
    "\n",
    "r = 1\n",
    "N = 200\n",
    "n = 300\n",
    "relative_delta = 1\n",
    "relative_sigma = 0.2\n",
    "tolerance = 1e-4\n",
    "num = 1\n",
    "cvx = 1\n",
    "itermax = 1000\n",
    "LeastSquare_large_ins(r, N, n, relative_delta, relative_sigma, itermax, tolerance, cvx, num)"
   ]
  },
  {
   "cell_type": "code",
   "execution_count": null,
   "metadata": {},
   "outputs": [],
   "source": []
  }
 ],
 "metadata": {
  "kernelspec": {
   "display_name": "Python 3",
   "language": "python",
   "name": "python3"
  },
  "language_info": {
   "codemirror_mode": {
    "name": "ipython",
    "version": 3
   },
   "file_extension": ".py",
   "mimetype": "text/x-python",
   "name": "python",
   "nbconvert_exporter": "python",
   "pygments_lexer": "ipython3",
   "version": "3.7.4"
  }
 },
 "nbformat": 4,
 "nbformat_minor": 2
}
