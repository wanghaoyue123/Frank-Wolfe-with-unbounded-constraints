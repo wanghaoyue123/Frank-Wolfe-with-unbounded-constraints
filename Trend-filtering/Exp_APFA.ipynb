{
 "cells": [
  {
   "cell_type": "code",
   "execution_count": 5,
   "metadata": {},
   "outputs": [],
   "source": [
    "import numpy as np\n",
    "import time\n",
    "import cvxpy as cp\n",
    "import mosek\n",
    "import scipy.sparse as sparse\n",
    "\n",
    "from utils import gen_data_leastsquares\n",
    "from APFA_algs import *\n",
    "from Mosek_Leastsquares import *\n"
   ]
  },
  {
   "cell_type": "code",
   "execution_count": 7,
   "metadata": {},
   "outputs": [
    {
     "name": "stdout",
     "output_type": "stream",
     "text": [
      "vals= [-0.3340884   0.3003631   0.26812631  0.43107541  0.26071281]\n",
      "--------------------\n",
      "feas= 0.0\n",
      "gap =  0.9679969225890842\n",
      "time_hist[k] =  0.00015854835510253906\n",
      "FW iters= 2\n",
      "--------------------\n",
      "feas= 1.0000001874362903\n",
      "gap =  0.6933226523728921\n",
      "time_hist[k] =  0.05409574508666992\n",
      "FW iters= 205\n",
      "--------------------\n",
      "feas= 0.5902448830176507\n",
      "gap =  0.6827660030283024\n",
      "time_hist[k] =  3.679762601852417\n",
      "FW iters= 321\n"
     ]
    }
   ],
   "source": [
    "\n",
    "N = 500\n",
    "n = 50\n",
    "r = 1\n",
    "m = 5\n",
    "relative_sigma = 1\n",
    "myseed=1\n",
    "delta = 1\n",
    "mat_A, b, x_true = gen_data_leastsquares(N, n, r, m, relative_sigma, myseed)\n",
    "b= np.reshape(b, b.shape[0])\n",
    "\n",
    "time_cvxpy, cvxpy_optval = Mosek_Leastsquares(r, mat_A, b, delta)\n",
    "\n",
    "time_hist, gap_hist = acc_projection_free(mat_A, b, r, relative_sigma, delta, cvxpy_optval, iter_max = 3)\n"
   ]
  },
  {
   "cell_type": "code",
   "execution_count": null,
   "metadata": {},
   "outputs": [],
   "source": []
  }
 ],
 "metadata": {
  "kernelspec": {
   "display_name": "Python 3",
   "language": "python",
   "name": "python3"
  },
  "language_info": {
   "codemirror_mode": {
    "name": "ipython",
    "version": 3
   },
   "file_extension": ".py",
   "mimetype": "text/x-python",
   "name": "python",
   "nbconvert_exporter": "python",
   "pygments_lexer": "ipython3",
   "version": "3.7.4"
  }
 },
 "nbformat": 4,
 "nbformat_minor": 2
}
